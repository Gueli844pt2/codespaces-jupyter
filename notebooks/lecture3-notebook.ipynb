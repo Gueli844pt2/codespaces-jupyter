{
 "cells": [
  {
   "cell_type": "code",
   "execution_count": 2,
   "metadata": {},
   "outputs": [],
   "source": [
    "x = 10"
   ]
  },
  {
   "cell_type": "code",
   "execution_count": 5,
   "metadata": {},
   "outputs": [
    {
     "name": "stdout",
     "output_type": "stream",
     "text": [
      "X is greater than 2\n"
     ]
    }
   ],
   "source": [
    "if x > 2:\n",
    "    print(\"X is greater than 2\")\n",
    "elif x < 0:\n",
    "    print(\"X is negative\")\n",
    "else:\n",
    "    print(\"X is 0, 1, or 2\")"
   ]
  },
  {
   "cell_type": "code",
   "execution_count": 6,
   "metadata": {},
   "outputs": [],
   "source": [
    "import random"
   ]
  },
  {
   "cell_type": "code",
   "execution_count": 7,
   "metadata": {},
   "outputs": [
    {
     "name": "stdout",
     "output_type": "stream",
     "text": [
      "5961\n",
      "value is odd\n",
      "Value is  5961\n"
     ]
    }
   ],
   "source": [
    "value = random.randint(1000,9999)\n",
    "print(value)\n",
    "if value % 2 == 1:\n",
    "    print(\"value is odd\")\n",
    "else:\n",
    "    print(\"value is even\")\n",
    "print (\"Value is \", value)\n",
    "evens = 0\n",
    "odds = 0"
   ]
  },
  {
   "cell_type": "code",
   "execution_count": 61,
   "metadata": {},
   "outputs": [],
   "source": [
    "odds = 0\n",
    "evens = 0"
   ]
  },
  {
   "cell_type": "code",
   "execution_count": 54,
   "metadata": {},
   "outputs": [
    {
     "name": "stdout",
     "output_type": "stream",
     "text": [
      "9637\n",
      "value is odd\n",
      "Evens are at 17\n",
      "Odds are at 28\n"
     ]
    }
   ],
   "source": [
    "value = random.randint(1000,9999)\n",
    "print(value)\n",
    "if value % 2 == 1:\n",
    "    print(\"value is odd\")\n",
    "    odds +=1\n",
    "else:\n",
    "    print(\"value is even\")\n",
    "    evens +=1\n",
    "print(\"Evens are at \" + str(evens))\n",
    "print(\"Odds are at \" + str(odds))"
   ]
  },
  {
   "cell_type": "code",
   "execution_count": 87,
   "metadata": {},
   "outputs": [
    {
     "name": "stdout",
     "output_type": "stream",
     "text": [
      "Evens are at 547\n",
      "Odds are at 603\n"
     ]
    }
   ],
   "source": [
    "count = 0\n",
    "while count < 50:\n",
    "    value = random.randint(1000,9999)\n",
    "    if value % 2 == 1:\n",
    "        odds +=1\n",
    "    else:\n",
    "        evens +=1\n",
    "    count +=1\n",
    "print(\"Evens are at \" + str(evens))\n",
    "print(\"Odds are at \" + str(odds))"
   ]
  }
 ],
 "metadata": {
  "kernelspec": {
   "display_name": "Python 3",
   "language": "python",
   "name": "python3"
  },
  "language_info": {
   "codemirror_mode": {
    "name": "ipython",
    "version": 3
   },
   "file_extension": ".py",
   "mimetype": "text/x-python",
   "name": "python",
   "nbconvert_exporter": "python",
   "pygments_lexer": "ipython3",
   "version": "3.10.8"
  },
  "orig_nbformat": 4
 },
 "nbformat": 4,
 "nbformat_minor": 2
}
